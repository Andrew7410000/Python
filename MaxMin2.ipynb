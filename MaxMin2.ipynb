{
 "cells": [
  {
   "cell_type": "code",
   "execution_count": null,
   "metadata": {},
   "outputs": [],
   "source": [
    "list = []\n",
    "while True:\n",
    "    try:\n",
    "        number = input(\"Enter a number:\")\n",
    "        if number == 'done':\n",
    "            break\n",
    "        converted = int(number)\n",
    "        list.append(converted)\n",
    "        maximum = max(list)\n",
    "        minimum = min(list)\n",
    "    except:\n",
    "        print(\"Invalid input\")\n",
    "print(\"Maximum is\", maximum)\n",
    "print(\"Minimum is\", minimum)\n"
   ]
  }
 ],
 "metadata": {
  "language_info": {
   "name": "python"
  },
  "orig_nbformat": 4
 },
 "nbformat": 4,
 "nbformat_minor": 2
}
