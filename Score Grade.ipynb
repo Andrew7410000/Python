{
 "cells": [
  {
   "cell_type": "code",
   "execution_count": 1,
   "metadata": {},
   "outputs": [],
   "source": [
    "score = input(\"Enter Score: \")\n",
    "scor = float(score)\n",
    "if scor < 0\n",
    "    print(\"Error\")\n",
    "elif scor > 1\n",
    "    print(\"Error\")\n",
    "elif scor >= 0.9\n",
    "    print(\"A\")\n",
    "elif scor >= 0.8\n",
    "    print(\"B\")\n",
    "elif scor >= 0.7\n",
    "    print(\"C\")\n",
    "elif scor >= 0.6\n",
    "    print(\"D\")\n",
    "elif scor < 0.6\n",
    "    print(\"F\")"
   ]
  }
 ],
 "metadata": {
  "kernelspec": {
   "display_name": "Python 3",
   "language": "python",
   "name": "python3"
  },
  "language_info": {
   "codemirror_mode": {
    "name": "ipython",
    "version": 3
   },
   "file_extension": ".py",
   "mimetype": "text/x-python",
   "name": "python",
   "nbconvert_exporter": "python",
   "pygments_lexer": "ipython3",
   "version": "3.11.0"
  },
  "orig_nbformat": 4
 },
 "nbformat": 4,
 "nbformat_minor": 2
}
